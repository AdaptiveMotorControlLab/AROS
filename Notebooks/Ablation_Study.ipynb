{
  "cells": [
    {
      "cell_type": "markdown",
      "metadata": {
        "id": "view-in-github",
        "colab_type": "text"
      },
      "source": [
        "<a href=\"https://colab.research.google.com/github/AdaptiveMotorControlLab/AROS/blob/main/Notebooks/Ablation_Study.ipynb\" target=\"_parent\"><img src=\"https://colab.research.google.com/assets/colab-badge.svg\" alt=\"Open In Colab\"/></a>"
      ]
    },
    {
      "cell_type": "markdown",
      "source": [
        "## AROS, Ablation Study"
      ],
    },
    {
      "cell_type": "code",
      "execution_count": null,
      "metadata": {},
      "outputs": [],
      "source": [
        "!git clone https://github.com/MMathisLab/AROS.git"
      ]
    },
    {
      "cell_type": "code",
      "execution_count": null,
      "metadata": {},
      "outputs": [],
      "source": [
        "%cd /content/AROS\n",
        "%ls\n",
        "!pip install -r requirements.txt"
      ]
    },
    {
      "cell_type": "code",
      "source": [
        "!git clone https://github.com/AdaptiveMotorControlLab/AROS.git"
      ],
      "metadata": {
        "id": "RoJ64RU50lri"
      },
      "execution_count": null,
      "outputs": []
    },
    {
      "cell_type": "code",
      "source": [
        "%cd /content/AROS\n",
        "%ls\n",
        "!pip install -r requirements.txt"
      ],
      "metadata": {
        "id": "e_k9dufx09HZ"
      },
      "execution_count": null,
      "outputs": []
    },
    {
      "cell_type": "code",
      "execution_count": null,
      "metadata": {
        "id": "S2YKR1ps79o3"
      },
      "outputs": [],
      "source": [
        "import argparse\n",
        "import torch\n",
        "import torch.nn as nn\n",
        "from tqdm.notebook import tqdm"
      ]
    },
    {
      "cell_type": "markdown",
      "metadata": {},
      "source": [
        "%cd AROS\n",
        "from evaluate import *\n",
        "from utils import *\n",
        "from data_loader import *\n",
        "from stability_loss_function import *"
      ]
    },
    {
      "cell_type": "markdown",
      "metadata": {},
      "source": [
        "#Set hyperparameters & dataloader"
      ]
    },
    {
      "cell_type": "code",
      "source": [
        "%cd AROS\n",
        "from data_loader import *\n",
        "from stability_loss_function import *\n",
        "from evaluate import *\n",
        "from utils import *"
      ],
      "metadata": {
        "id": "tsnDsEXY1AcI"
      },
      "execution_count": null,
      "outputs": []
    },
    {
      "cell_type": "code",
      "execution_count": null,
      "metadata": {
        "id": "d7vxLb0179fa"
      },
      "outputs": [],
      "source": [
        "parser = argparse.ArgumentParser(description=\"Hyperparameters for the script\")\n",
        "\n",
        "# Define the hyperparameters controlled via CLI 'Ding2020MMA'\n",
        "\n",
        "parser.add_argument('--in_dataset', type=str, default='cifar100', choices=['cifar10', 'cifar100'], help='The in-distribution dataset to be used')\n",
        "parser.add_argument('--threat_model', type=str, default='Linf', help='Adversarial threat model for robust training')\n",
        "parser.add_argument('--noise_std', type=float, default=1, help='Standard deviation of noise for generating noisy fake embeddings')\n",
        "parser.add_argument('--attack_eps', type=float, default=8/255, help='Perturbation bound (epsilon) for PGD attack')\n",
        "parser.add_argument('--attack_steps', type=int, default=10, help='Number of steps for the PGD attack')\n",
        "parser.add_argument('--attack_alpha', type=float, default=2.5 * (8/255) / 10, help='Step size (alpha) for each PGD attack iteration')\n",
        "\n",
        "args = parser.parse_args('')\n",
        "\n",
        "# Set the default model name based on the selected dataset\n",
        "if args.in_dataset == 'cifar10':\n",
        "    default_model_name = 'Rebuffi2021Fixing_70_16_cutmix_extra'\n",
        "elif args.in_dataset == 'cifar100':\n",
        "    default_model_name = 'Wang2023Better_WRN-70-16'\n",
        "\n",
        "parser.add_argument('--model_name', type=str, default=default_model_name, choices=['Rebuffi2021Fixing_70_16_cutmix_extra', 'Wang2023Better_WRN-70-16'], help='The pre-trained model to be used for feature extraction')\n",
        "\n",
        "# Re-parse arguments to include model_name selection based on the dataset\n",
        "args = parser.parse_args('')\n",
        "num_classes = 10 if args.in_dataset == 'cifar10' else 100\n",
        "\n",
        "trainloader, testloader,test_set, ID_OOD_loader = get_loaders(in_dataset=args.in_dataset)\n",
        "\n",
        "device = torch.device(\"cuda:0\" if torch.cuda.is_available() else \"cpu\")\n"
      ]
    },
    {
      "cell_type": "code",
      "execution_count": null,
      "metadata": {
        "colab": {
          "referenced_widgets": [
            "59296a90b8c84b1c94648a4c5d68a43b",
            "ad54c341af6e400280d000b3725f08ee"
          ]
        },
        "id": "g2TltXvg7MfF",
        "outputId": "4df864e7-e14b-4db4-e1ae-06e33c9b11be"
      },
      "outputs": [],
      "source": [
        "robust_backbone = load_model(model_name=args.model_name, dataset=args.in_dataset, threat_model=args.threat_model).to(device)\n",
        "\n",
        "\n",
        "attack_eps = 8/255\n",
        "attack_steps = 1\n",
        "attack_alpha = 2.5 * attack_eps / attack_steps\n",
        "\n",
        "test_attack = PGD_MSP(robust_backbone, eps=attack_eps, steps=attack_steps, alpha=attack_alpha, num_classes=num_classes)\n",
        "\n",
        "\n",
        "auc_MSP(robust_backbone, ID_OOD_loader , device, num_classes)\n",
        "adv_auc = auc_MSP_adversarial(model=robust_backbone,  test_loader=ID_OOD_loader, test_attack=test_attack, device=device, num_classes=num_classes)\n",
        "#CIFAR-10 vs. CIFAR100"
      ]
    },
    {
      "cell_type": "code",
      "execution_count": null,
      "metadata": {
        "colab": {
          "referenced_widgets": [
            "c9c97585bef049ca9974797d1d5964ab",
            "97f0832ab970458f947318195735214b"
          ]
        },
        "id": "QeC-30C5ImKg",
        "outputId": "793be5f3-3307-4a3d-8e5f-177ac212d30a"
      },
      "outputs": [],
      "source": [
        "robust_backbone = load_model(model_name=args.model_name, dataset=args.in_dataset, threat_model=args.threat_model).to(device)\n",
        "\n",
        "\n",
        "attack_eps = 8/255\n",
        "attack_steps = 1\n",
        "attack_alpha = 2.5 * attack_eps / attack_steps\n",
        "\n",
        "test_attack = PGD_MSP(robust_backbone, eps=attack_eps, steps=attack_steps, alpha=attack_alpha, num_classes=num_classes)\n",
        "\n",
        "\n",
        "auc_MSP(robust_backbone, ID_OOD_loader , device, num_classes)\n",
        "adv_auc = auc_MSP_adversarial(model=robust_backbone,  test_loader=ID_OOD_loader, test_attack=test_attack, device=device, num_classes=num_classes)\n",
        "#CIFAR-100 vs. CIFAR10"
      ]
    }
  ],
  "metadata": {
    "colab": {
      "provenance": [],
      "include_colab_link": true
    },
    "kernelspec": {
      "display_name": "Python 3 (ipykernel)",
      "language": "python",
      "name": "python3"
    },
    "language_info": {
      "codemirror_mode": {
        "name": "ipython",
        "version": 3
      },
      "file_extension": ".py",
      "mimetype": "text/x-python",
      "name": "python",
      "nbconvert_exporter": "python",
      "pygments_lexer": "ipython3",
      "version": "3.10.12"
    }
  },
  "nbformat": 4,
  "nbformat_minor": 0
}
